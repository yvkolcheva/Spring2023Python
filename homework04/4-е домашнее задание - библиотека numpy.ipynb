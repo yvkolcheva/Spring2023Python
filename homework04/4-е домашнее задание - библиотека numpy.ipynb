{
 "cells": [
  {
   "cell_type": "markdown",
   "metadata": {},
   "source": [
    "## 4-е домашнее задание - Библиотека numpy\n",
    "\n",
    "Подпишите этот блокнот: укажите ФИО и номер группы. Выполненное задание загрузите в свой репозиторий «<b>Spring2023Python</b>» в github в папку \"<b>homework04</b>\".  \n",
    "\n",
    "Перед выполнением этого домашнего задания полезно прочитать про возможности и основные методы библиотеки numpy:  \n",
    "http://acm.mipt.ru/twiki/bin/view/Cintro/PythonNumpy  \n"
   ]
  },
  {
   "cell_type": "markdown",
   "metadata": {},
   "source": [
    "1.\tСоздайте равномерное разбиение интервала от -1.3 до 2.5 на 64 отрезка."
   ]
  },
  {
   "cell_type": "code",
   "execution_count": 1,
   "metadata": {},
   "outputs": [
    {
     "data": {
      "text/plain": [
       "array([-1.3     , -1.240625, -1.18125 , -1.121875, -1.0625  , -1.003125,\n",
       "       -0.94375 , -0.884375, -0.825   , -0.765625, -0.70625 , -0.646875,\n",
       "       -0.5875  , -0.528125, -0.46875 , -0.409375, -0.35    , -0.290625,\n",
       "       -0.23125 , -0.171875, -0.1125  , -0.053125,  0.00625 ,  0.065625,\n",
       "        0.125   ,  0.184375,  0.24375 ,  0.303125,  0.3625  ,  0.421875,\n",
       "        0.48125 ,  0.540625,  0.6     ,  0.659375,  0.71875 ,  0.778125,\n",
       "        0.8375  ,  0.896875,  0.95625 ,  1.015625,  1.075   ,  1.134375,\n",
       "        1.19375 ,  1.253125,  1.3125  ,  1.371875,  1.43125 ,  1.490625,\n",
       "        1.55    ,  1.609375,  1.66875 ,  1.728125,  1.7875  ,  1.846875,\n",
       "        1.90625 ,  1.965625,  2.025   ,  2.084375,  2.14375 ,  2.203125,\n",
       "        2.2625  ,  2.321875,  2.38125 ,  2.440625,  2.5     ])"
      ]
     },
     "execution_count": 1,
     "metadata": {},
     "output_type": "execute_result"
    }
   ],
   "source": [
    "import numpy as np\n",
    "np. linspace(-1.3, 2.5, 65)"
   ]
  },
  {
   "cell_type": "markdown",
   "metadata": {},
   "source": [
    "2.\tСгенерируйте numpy массив длины $3n$, заполненный циклически числами 1, 2, 3, 1, 2, 3, 1...."
   ]
  },
  {
   "cell_type": "code",
   "execution_count": 16,
   "metadata": {},
   "outputs": [
    {
     "data": {
      "text/plain": [
       "array([1, 2, 3, 1, 2, 3, 1, 2, 3, 1, 2, 3, 1, 2, 3])"
      ]
     },
     "execution_count": 16,
     "metadata": {},
     "output_type": "execute_result"
    }
   ],
   "source": [
    "n = 5\n",
    "arr = list(np.arange(1,4))\n",
    "np.array(arr*n)"
   ]
  },
  {
   "cell_type": "markdown",
   "metadata": {},
   "source": [
    "3.\tСоздайте массив первых 10 нечетных целых чисел."
   ]
  },
  {
   "cell_type": "code",
   "execution_count": 17,
   "metadata": {},
   "outputs": [
    {
     "data": {
      "text/plain": [
       "array([ 1,  3,  5,  7,  9, 11, 13, 15, 17, 19])"
      ]
     },
     "execution_count": 17,
     "metadata": {},
     "output_type": "execute_result"
    }
   ],
   "source": [
    "np.arange(1,21,2)"
   ]
  },
  {
   "cell_type": "markdown",
   "metadata": {},
   "source": [
    "4.  Создайте массив нулей размера 10 x 10, а затем создайте в нём \"рамку\" из единиц по краям."
   ]
  },
  {
   "cell_type": "code",
   "execution_count": 2,
   "metadata": {},
   "outputs": [
    {
     "data": {
      "text/plain": [
       "array([[1., 1., 1., 1., 1., 1., 1., 1., 1., 1.],\n",
       "       [1., 0., 0., 0., 0., 0., 0., 0., 0., 1.],\n",
       "       [1., 0., 0., 0., 0., 0., 0., 0., 0., 1.],\n",
       "       [1., 0., 0., 0., 0., 0., 0., 0., 0., 1.],\n",
       "       [1., 0., 0., 0., 0., 0., 0., 0., 0., 1.],\n",
       "       [1., 0., 0., 0., 0., 0., 0., 0., 0., 1.],\n",
       "       [1., 0., 0., 0., 0., 0., 0., 0., 0., 1.],\n",
       "       [1., 0., 0., 0., 0., 0., 0., 0., 0., 1.],\n",
       "       [1., 0., 0., 0., 0., 0., 0., 0., 0., 1.],\n",
       "       [1., 1., 1., 1., 1., 1., 1., 1., 1., 1.]])"
      ]
     },
     "execution_count": 2,
     "metadata": {},
     "output_type": "execute_result"
    }
   ],
   "source": [
    "arr = np.zeros((10,10))\n",
    "arr1 = [1,0,0,0,0,0,0,0,0,1]\n",
    "arr[0] =np.ones(10) - arr1\n",
    "arr[9]=np.ones(10) - arr1\n",
    "arr+arr1"
   ]
  },
  {
   "cell_type": "markdown",
   "metadata": {},
   "source": [
    "5.  Создайте массив 8 x 8 с шахматной доской из нулей и единиц."
   ]
  },
  {
   "cell_type": "code",
   "execution_count": 3,
   "metadata": {},
   "outputs": [
    {
     "data": {
      "text/plain": [
       "array([[0, 1, 0, 1, 0, 1, 0, 1],\n",
       "       [1, 0, 1, 0, 1, 0, 1, 0],\n",
       "       [0, 1, 0, 1, 0, 1, 0, 1],\n",
       "       [1, 0, 1, 0, 1, 0, 1, 0],\n",
       "       [0, 1, 0, 1, 0, 1, 0, 1],\n",
       "       [1, 0, 1, 0, 1, 0, 1, 0],\n",
       "       [0, 1, 0, 1, 0, 1, 0, 1],\n",
       "       [1, 0, 1, 0, 1, 0, 1, 0]])"
      ]
     },
     "execution_count": 3,
     "metadata": {},
     "output_type": "execute_result"
    }
   ],
   "source": [
    "np.tile(np.array([[0,1],[1,0]]),(4,4))"
   ]
  },
  {
   "cell_type": "markdown",
   "metadata": {},
   "source": [
    "6.  Создайте функцию, которая создает $n×n$ матрицу с $(i,j)$-элементом, равным $i+j$."
   ]
  },
  {
   "cell_type": "code",
   "execution_count": 7,
   "metadata": {},
   "outputs": [
    {
     "data": {
      "text/plain": [
       "array([[0, 1, 2],\n",
       "       [1, 2, 3],\n",
       "       [2, 3, 4],\n",
       "       [3, 4, 5]])"
      ]
     },
     "execution_count": 7,
     "metadata": {},
     "output_type": "execute_result"
    }
   ],
   "source": [
    "#a00 = 0, a01 = 1 a02=...\n",
    "\n",
    "def n_n(n):\n",
    "    a=[]\n",
    "    for i in range(n):\n",
    "        a.append(list(np.arange(i,n-1+i)))\n",
    "    return np.array(a)\n",
    "\n",
    "n_n(4)\n",
    "    "
   ]
  },
  {
   "cell_type": "markdown",
   "metadata": {},
   "source": [
    "7. Примените функцию dot для перемножения вектор на вектор, матрицу на вектор и матрицу на матрицу."
   ]
  },
  {
   "cell_type": "code",
   "execution_count": 20,
   "metadata": {},
   "outputs": [
    {
     "name": "stdout",
     "output_type": "stream",
     "text": [
      "вектор на вектор: 50\n",
      "матрицу на вектор: [60. 31. 50. 43.]\n",
      "матрицу на матрицу:\n",
      " [[116.  64. 141.  42.]\n",
      " [ 42.  24.  69.   9.]\n",
      " [111.  79.  92.  26.]\n",
      " [ 82.  72.  83.   5.]]\n"
     ]
    }
   ],
   "source": [
    "vector1 = np.arange(1,5)\n",
    "vector2 = np.arange(1,8,2)\n",
    "print(\"вектор на вектор:\", vector1.dot(vector2))\n",
    "arr1 = np.floor(10*np.random.random((4,4)))\n",
    "arr2 = np.floor(10*np.random.random((4,4)))\n",
    "print('матрицу на вектор:', arr1.dot(vector1))\n",
    "print('матрицу на матрицу:\\n', arr1.dot(arr2))"
   ]
  },
  {
   "cell_type": "markdown",
   "metadata": {},
   "source": [
    "8. Вычислите cos(x) и sin(x) на интервале [0,1] с шагом $0.05$, а затем объедините оба массива чисел как строки в один массив."
   ]
  },
  {
   "cell_type": "code",
   "execution_count": 28,
   "metadata": {},
   "outputs": [
    {
     "data": {
      "text/plain": [
       "array([[1.        , 0.87758256, 0.54030231],\n",
       "       [0.        , 0.47942554, 0.84147098]])"
      ]
     },
     "execution_count": 28,
     "metadata": {},
     "output_type": "execute_result"
    }
   ],
   "source": [
    "arr = np.arange(0,1.2,0.5)\n",
    "a = np.cos(arr)\n",
    "b = np.sin(arr)\n",
    "np.vstack((a,b))"
   ]
  },
  {
   "cell_type": "markdown",
   "metadata": {},
   "source": [
    "9. Создайте матрицу $A$ размера $3×5$ из случайных чисел с равномерным распределением на отрезке $[-1,3]$ (используйте np.random.rand)"
   ]
  },
  {
   "cell_type": "code",
   "execution_count": 4,
   "metadata": {},
   "outputs": [
    {
     "data": {
      "text/plain": [
       "array([[ 0.84850312,  0.62009243,  1.86185556, -0.79303887,  1.19872888],\n",
       "       [ 0.47699648,  2.72407928,  0.04711552,  2.83349728,  0.21523304],\n",
       "       [ 0.28029461,  2.21470019, -0.27434549,  2.30573396,  2.46408559]])"
      ]
     },
     "execution_count": 4,
     "metadata": {},
     "output_type": "execute_result"
    }
   ],
   "source": [
    "A = 4*(np.random.rand(3,5))-1\n",
    "A"
   ]
  },
  {
   "cell_type": "markdown",
   "metadata": {},
   "source": [
    "10. Найдите сумму всех элементов, сумму внутри строк, сумму внутри столбцов, а также среднее значение, дисперсию и стандартное отклонение чисел для каждой строки матрицы $A$. (Подобно тому, как sorted имеет необязательный аргумент key=, многие функции Numpy имеют необязательный аргумент axis=)\n"
   ]
  },
  {
   "cell_type": "code",
   "execution_count": 5,
   "metadata": {},
   "outputs": [
    {
     "name": "stdout",
     "output_type": "stream",
     "text": [
      "сумма всех: 17.0235315769937\n",
      "сумма по столбцам: [1.6057942  5.55887191 1.63462559 4.34619237 3.87804751]\n",
      "сумма по строкам: [3.73614111 6.29692161 6.99046886]\n",
      "по строкам:\n",
      "среднее значение: [0.74722822 1.25938432 1.39809377]\n",
      "дисперсия: [0.76901795 1.55902824 1.33470467]\n",
      "стандартное отклонение: [0.87693669 1.24861053 1.15529419]\n"
     ]
    }
   ],
   "source": [
    "print('сумма всех:',np.sum(A))\n",
    "print('сумма по столбцам:',np.sum(A, axis=0))\n",
    "print('сумма по строкам:',np.sum(A, axis=1))\n",
    "print(\"по строкам:\")\n",
    "print('среднее значение:',np.mean(A,axis=1))\n",
    "print('дисперсия:',np.var(A,axis=1))\n",
    "print('стандартное отклонение:',np.std(A,axis=1))"
   ]
  },
  {
   "cell_type": "markdown",
   "metadata": {},
   "source": [
    "11.  Отнимите от каждого элемента матрицы $A$ среднее по строке и поделите на стандартное отклонение строки."
   ]
  },
  {
   "cell_type": "code",
   "execution_count": 6,
   "metadata": {},
   "outputs": [
    {
     "data": {
      "text/plain": [
       "array([[ 0.11548713, -0.14497716,  1.27104653, -1.75641767,  0.51486118],\n",
       "       [-0.6266068 ,  1.17305992, -0.97089426,  1.26069173, -0.83625058],\n",
       "       [-0.96754504,  0.7068385 , -1.44763063,  0.78563555,  0.92270162]])"
      ]
     },
     "execution_count": 6,
     "metadata": {},
     "output_type": "execute_result"
    }
   ],
   "source": [
    "sr = np.mean(A,axis=1)\n",
    "otkl = np.std(A,axis=1)\n",
    "B = np.copy(A)\n",
    "\n",
    "B[0] = (B[0] - sr[0])/ otkl[0]\n",
    "B[1] = (B[1] - sr[1])/ otkl[1]\n",
    "B[2] = (B[2] - sr[2])/ otkl[2]\n",
    "\n",
    "B\n"
   ]
  },
  {
   "cell_type": "markdown",
   "metadata": {},
   "source": [
    "12. Отсортируйте матрицу $A$ по 3-ому столбцу, т.е. поменяйте местами строки матрицы так, чтобы 3-й столбец оказался отсортированным. Используйте для этого slicing + argsort + indexing."
   ]
  },
  {
   "cell_type": "code",
   "execution_count": 9,
   "metadata": {},
   "outputs": [
    {
     "data": {
      "text/plain": [
       "array([[ 0.84850312,  0.62009243,  1.86185556, -0.79303887,  1.19872888],\n",
       "       [ 0.47699648,  2.72407928,  0.04711552,  2.30573396,  0.21523304],\n",
       "       [ 0.28029461,  2.21470019, -0.27434549,  2.83349728,  2.46408559]])"
      ]
     },
     "execution_count": 9,
     "metadata": {},
     "output_type": "execute_result"
    }
   ],
   "source": [
    "C = np.copy(A)\n",
    "c1 = C[:, 3]\n",
    "sorted = np.argsort(C[:, 3])\n",
    "temp = np.zeros((3,))\n",
    "for i in range(3):\n",
    "    temp[i] = c1[sorted[i]]\n",
    "C[:, 3] = temp\n",
    "C"
   ]
  },
  {
   "cell_type": "markdown",
   "metadata": {},
   "source": [
    "13. Посчитайте две матрицы: $B = A^TA$ и $C = AA^T$. Что вы можете о них сказать? Какого они размера? В чём их сходство и отличие?"
   ]
  },
  {
   "cell_type": "code",
   "execution_count": 58,
   "metadata": {},
   "outputs": [
    {
     "name": "stdout",
     "output_type": "stream",
     "text": [
      "[[ 5.51677368  1.08956557  2.35773794  2.99583774  1.4140822 ]\n",
      " [ 1.08956557  3.35112354  4.01251073 -0.67315322  2.79583959]\n",
      " [ 2.35773794  4.01251073  7.6811143   1.06363753  4.72079001]\n",
      " [ 2.99583774 -0.67315322  1.06363753  2.69056234  0.33209362]\n",
      " [ 1.4140822   2.79583959  4.72079001  0.33209362  2.98802978]]\n",
      "\n"
     ]
    },
    {
     "data": {
      "text/plain": [
       "array([[ 6.80409813,  5.04563622,  2.02772039],\n",
       "       [ 5.04563622, 10.92405829, -1.2353964 ],\n",
       "       [ 2.02772039, -1.2353964 ,  4.49944722]])"
      ]
     },
     "execution_count": 58,
     "metadata": {},
     "output_type": "execute_result"
    }
   ],
   "source": [
    "B = (A.T).dot(A)\n",
    "print(B)\n",
    "C = (A).dot(A.T)\n",
    "print()\n",
    "print()\n",
    "\"\"\"В первом случае вышла матрица 5х5, 5 это количество столбцов матрицы, на которую мы умножали. Во втором случае\n",
    "аналогично, 3х3, 3 это количество столбцов второй матрицы. Таким образом, размер финальной матрицы зависит от размера именно \n",
    "той матрицы, на которую мы умножаем. Так же стоит отметить, что в случае с матрицами операция умножения не коммутативна.\"\"\""
   ]
  },
  {
   "cell_type": "markdown",
   "metadata": {},
   "source": [
    "14. Найдите сумму диагональных элементов матриц $B$ и $C$."
   ]
  },
  {
   "cell_type": "code",
   "execution_count": 64,
   "metadata": {},
   "outputs": [
    {
     "name": "stdout",
     "output_type": "stream",
     "text": [
      "B: 22.227603638275287\n",
      "C: 22.22760363827529\n"
     ]
    }
   ],
   "source": [
    "B1 = np.eye(5)\n",
    "C1 = np.eye(3)\n",
    "print('B:',np.sum(B*B1))\n",
    "print('C:',np.sum(C*C1))"
   ]
  },
  {
   "cell_type": "markdown",
   "metadata": {},
   "source": [
    "15.\tПосчитайте детерминант и ранг матриц $A$, $B$ и $C$, посмотрите на спектр (набор собственных значений) матриц $B$ и $C$, какие выводы вы можете сделать?  \n",
    "(подсказка: используйте готовые функции из библиотеки np.linalg). \n"
   ]
  },
  {
   "cell_type": "code",
   "execution_count": 69,
   "metadata": {},
   "outputs": [
    {
     "name": "stdout",
     "output_type": "stream",
     "text": [
      "det B: 1.702852698850475e-30\n",
      "det C: 139.3082511997193\n",
      "\n",
      "rg B: 3\n",
      "rg C: 3\n",
      "\n",
      "eig B: (array([ 1.43152230e+01,  6.38928831e+00,  1.52309235e+00, -1.50093298e-15,\n",
      "       -3.90489531e-16]), array([[ 0.35898131,  0.72081759,  0.48092335, -0.34679554, -0.12888949],\n",
      "       [ 0.39722271, -0.29951034,  0.58386697,  0.59833082,  0.00742704],\n",
      "       [ 0.70520055, -0.20516468, -0.43867738, -0.3047983 , -0.50193386],\n",
      "       [ 0.14663739,  0.5635225 , -0.48195296,  0.65472173,  0.24257364],\n",
      "       [ 0.44106258, -0.17625379, -0.05563805,  0.01305886,  0.82009314]]))\n",
      "eig C: (array([14.31522298,  1.52309235,  6.38928831]), array([[-0.5596911 , -0.65190269,  0.51163342],\n",
      "       [-0.82862385,  0.4318017 , -0.35627209],\n",
      "       [-0.01133055,  0.62335397,  0.78185769]]))\n"
     ]
    }
   ],
   "source": [
    "print('det B:',np.linalg.det(B))\n",
    "print('det C:',np.linalg.det(C))\n",
    "print()\n",
    "print('rg B:',np.linalg.matrix_rank(B))\n",
    "print('rg C:',np.linalg.matrix_rank(C))\n",
    "print()\n",
    "print('eig B:',np.linalg.eig(B))\n",
    "print('eig C:',np.linalg.eig(C))\n",
    "\n",
    "\"\"\"Смотря на значения, можно сделать вывод, что ранг итоговой матрицы не зависит от порядка умножения,\n",
    "однако все остальные значения различны, поэтому, опять же, нужно помнить, что операция умножения не коммутативна,\n",
    "и транспанирование матрицы сильно влияет на конечный результат. \"\"\""
   ]
  },
  {
   "cell_type": "markdown",
   "metadata": {},
   "source": [
    "16. Численно посчитать определённый интеграл  3-мя методами:  \n",
    "a)\tПрямоугольников $\\int\\limits_a^b {f(x)dx \\approx \\Delta x\\sum\\limits_{k = 0}^N {f({x_k})} }$  \n",
    "b)\tТрапеций $\\int\\limits_a^b {f(x)dx \\approx \\frac{{\\Delta x}}{2}\\left( {f({x_0}) + 2\\sum\\limits_{k = 1}^{N - 1} {f({x_k})}  + f({x_N})} \\right)}$  \n",
    "c)\tПо правилу Симпсона  $\\int\\limits_a^b {f(x)dx \\approx \\frac{{\\Delta x}}{3}\\left( {f({x_0}) + 2\\sum\\limits_{k = 1}^{N/2 - 1} {f({x_{2k}})}  + 4\\sum\\limits_{k = 1}^{N/2} {f({x_{2k - 1}})}  + f({x_N})} \\right)}$  \n",
    "\n",
    "\n",
    "В реализации этих методов цикл for для суммирования использовать нельзя.  \n",
    "Нужно посчитать значение интеграла с некоторым шагом интегрирования (например начать с 0.1), потом уменьшить его в десять раз и ещё раз посчитать и так до тех пор пока отличие в ответах будет в 5-м знаке после запятой, т.е. чтобы ошибка была меньше 1e-5. Получить ответы для 3-х разных методов и сделать соответствующие выводы.  \n",
    "\n",
    "Далее необходимо сравнить полученные оценки с аналитическим решением (т.е. формульным, которое вы должны сами посчитать на листочке и вбить формулу-ответ).   \n",
    "\n",
    "В качестве интеграла взять два из следующих примеров:  \n",
    "- один с номером, сгенерированным случайным образом с помощью функции np.random.randint(9), в качестве seed для генератора случайных чисел взять номер своего студенческого билета. \n",
    "- второй номер - под номером 9, несобственный интерграл. Подумайте, как сделать подбор шага интегрирования адаптивным.\n",
    "\n",
    "<table width=\"80%\"\n",
    "       align=\"center\">\n",
    "    <tr>\n",
    "        <td> 0) $\\int\\limits_3^4 {\\frac{{{x^2} + 3}}{{x - 2}}dx}$ </td>\n",
    "        <td> 1) $\\int\\limits_{ - 2}^{ - 1} {\\frac{{x + 1}}{{{x^3} - {x^2}}}dx}$ </td>\n",
    "        <td> 2) $\\int\\limits_1^2 {\\frac{{{e^{1/{x^2}}}}}{{{x^3}}}dx}$ </td>\n",
    "        <td> 3) $\\int\\limits_1^e {\\frac{{\\cos (\\ln x)}}{x}dx}$ </td>\n",
    "        <td> 4) $\\int\\limits_1^e {\\frac{{dx}}{{x(1 + {{\\ln }^2}x)}}}$ </td>\n",
    "    </tr>                \n",
    "    <tr>\n",
    "        <td> 5) $\\int\\limits_0^{\\pi /2} {{{\\cos }^3}\\alpha \\;d\\alpha }$ </td>\n",
    "        <td> 6) $\\int\\limits_0^{1/3} {c{h^2}3x\\;dx}$ </td>\n",
    "        <td> 7) $\\int\\limits_2^3 {\\frac{{dy}}{{{y^2} - 2y - 8}}dy}$ </td>\n",
    "        <td> 8) $\\int\\limits_0^2 {\\frac{{2x - 1}}{{2x + 1}}dx}$ </td>\n",
    "        <td> 9) $\\int\\limits_{3/4}^2 {\\frac{{dx}}{{\\sqrt {2 + 3x - 2{x^2}} }}}$ </td>\n",
    "        </tr>\n",
    "</table>"
   ]
  },
  {
   "cell_type": "code",
   "execution_count": 34,
   "metadata": {},
   "outputs": [
    {
     "data": {
      "text/plain": [
       "5"
      ]
     },
     "execution_count": 34,
     "metadata": {},
     "output_type": "execute_result"
    }
   ],
   "source": [
    "np.random.seed(1032201727)\n",
    "np.random.randint(9)"
   ]
  },
  {
   "cell_type": "code",
   "execution_count": 37,
   "metadata": {},
   "outputs": [
    {
     "name": "stdout",
     "output_type": "stream",
     "text": [
      "0.8414709848078965 - аналитическое решение функции\n"
     ]
    },
    {
     "ename": "TypeError",
     "evalue": "only size-1 arrays can be converted to Python scalars",
     "output_type": "error",
     "traceback": [
      "\u001b[1;31m---------------------------------------------------------------------------\u001b[0m",
      "\u001b[1;31mTypeError\u001b[0m                                 Traceback (most recent call last)",
      "Input \u001b[1;32mIn [37]\u001b[0m, in \u001b[0;36m<cell line: 16>\u001b[1;34m()\u001b[0m\n\u001b[0;32m     14\u001b[0m \u001b[38;5;28mprint\u001b[39m(\u001b[38;5;124mf\u001b[39m\u001b[38;5;124m\"\u001b[39m\u001b[38;5;132;01m{\u001b[39;00man_solution\u001b[38;5;132;01m}\u001b[39;00m\u001b[38;5;124m - аналитическое решение функции\u001b[39m\u001b[38;5;124m\"\u001b[39m)\n\u001b[0;32m     16\u001b[0m \u001b[38;5;28;01mfor\u001b[39;00m i \u001b[38;5;129;01min\u001b[39;00m \u001b[38;5;28mrange\u001b[39m(\u001b[38;5;241m5\u001b[39m):\n\u001b[1;32m---> 17\u001b[0m     \u001b[38;5;28mprint\u001b[39m(\u001b[43mintegral\u001b[49m\u001b[43m(\u001b[49m\u001b[43mf\u001b[49m\u001b[43m,\u001b[49m\u001b[43m \u001b[49m\u001b[38;5;241;43m1\u001b[39;49m\u001b[43m,\u001b[49m\u001b[43m \u001b[49m\u001b[43me\u001b[49m\u001b[43m,\u001b[49m\u001b[43m \u001b[49m\u001b[38;5;241;43m0.1\u001b[39;49m\u001b[38;5;241;43m*\u001b[39;49m\u001b[38;5;241;43m*\u001b[39;49m\u001b[43mi\u001b[49m\u001b[43m)\u001b[49m)\n",
      "Input \u001b[1;32mIn [37]\u001b[0m, in \u001b[0;36mintegral\u001b[1;34m(f, a, b, dx)\u001b[0m\n\u001b[0;32m      7\u001b[0m xk \u001b[38;5;241m=\u001b[39m np\u001b[38;5;241m.\u001b[39mlinspace(a, b, N)  \u001b[38;5;66;03m# точки\u001b[39;00m\n\u001b[0;32m      8\u001b[0m rectan \u001b[38;5;241m=\u001b[39m dx\u001b[38;5;241m*\u001b[39mnp\u001b[38;5;241m.\u001b[39msum(f(xk))  \u001b[38;5;66;03m#метод прямоугольников\u001b[39;00m\n\u001b[1;32m----> 9\u001b[0m trapez \u001b[38;5;241m=\u001b[39m dx\u001b[38;5;241m/\u001b[39m\u001b[38;5;241m2\u001b[39m\u001b[38;5;241m*\u001b[39m(f(dx) \u001b[38;5;241m+\u001b[39m \u001b[38;5;241m2\u001b[39m\u001b[38;5;241m*\u001b[39mnp\u001b[38;5;241m.\u001b[39msum(\u001b[43mf\u001b[49m\u001b[43m(\u001b[49m\u001b[43mxk\u001b[49m\u001b[43m[\u001b[49m\u001b[38;5;241;43m1\u001b[39;49m\u001b[43m:\u001b[49m\u001b[38;5;241;43m-\u001b[39;49m\u001b[38;5;241;43m1\u001b[39;49m\u001b[43m]\u001b[49m\u001b[43m)\u001b[49m) \u001b[38;5;241m+\u001b[39m f(xk[\u001b[38;5;241m-\u001b[39m\u001b[38;5;241m1\u001b[39m]))  \u001b[38;5;66;03m# метод трапеций\u001b[39;00m\n\u001b[0;32m     10\u001b[0m simp \u001b[38;5;241m=\u001b[39m dx\u001b[38;5;241m/\u001b[39m\u001b[38;5;241m3\u001b[39m\u001b[38;5;241m*\u001b[39m(f(dx) \u001b[38;5;241m+\u001b[39m \u001b[38;5;241m2\u001b[39m\u001b[38;5;241m*\u001b[39mnp\u001b[38;5;241m.\u001b[39msum(f(xk[\u001b[38;5;241m2\u001b[39m:\u001b[38;5;241m-\u001b[39m\u001b[38;5;241m1\u001b[39m:\u001b[38;5;241m2\u001b[39m])) \u001b[38;5;241m+\u001b[39m \u001b[38;5;241m4\u001b[39m\u001b[38;5;241m*\u001b[39mnp\u001b[38;5;241m.\u001b[39msum(f(xk[\u001b[38;5;241m1\u001b[39m:\u001b[38;5;241m-\u001b[39m\u001b[38;5;241m2\u001b[39m:\u001b[38;5;241m2\u001b[39m])) \u001b[38;5;241m+\u001b[39m f(xk[\u001b[38;5;241m-\u001b[39m\u001b[38;5;241m1\u001b[39m]))  \u001b[38;5;66;03m# метод Симпсона\u001b[39;00m\n\u001b[0;32m     11\u001b[0m \u001b[38;5;28;01mreturn\u001b[39;00m \u001b[38;5;124mf\u001b[39m\u001b[38;5;124m\"\u001b[39m\u001b[38;5;132;01m{\u001b[39;00mrectan\u001b[38;5;132;01m}\u001b[39;00m\u001b[38;5;124m, \u001b[39m\u001b[38;5;132;01m{\u001b[39;00mtrapez\u001b[38;5;132;01m}\u001b[39;00m\u001b[38;5;124m, \u001b[39m\u001b[38;5;132;01m{\u001b[39;00msimp\u001b[38;5;132;01m}\u001b[39;00m\u001b[38;5;124m с шагом \u001b[39m\u001b[38;5;132;01m{\u001b[39;00mdx\u001b[38;5;132;01m}\u001b[39;00m\u001b[38;5;124m\"\u001b[39m\n",
      "Input \u001b[1;32mIn [37]\u001b[0m, in \u001b[0;36mf\u001b[1;34m(x)\u001b[0m\n\u001b[0;32m      2\u001b[0m \u001b[38;5;28;01mdef\u001b[39;00m \u001b[38;5;21mf\u001b[39m(x):\n\u001b[1;32m----> 3\u001b[0m     \u001b[38;5;28;01mreturn\u001b[39;00m (cos(\u001b[43mlog\u001b[49m\u001b[43m(\u001b[49m\u001b[43mx\u001b[49m\u001b[43m)\u001b[49m))\u001b[38;5;241m/\u001b[39mx\n",
      "\u001b[1;31mTypeError\u001b[0m: only size-1 arrays can be converted to Python scalars"
     ]
    }
   ],
   "source": [
    "from math import *\n",
    "def f(x):\n",
    "    return (cos(log(x)))/x\n",
    "\n",
    "def integral(f, a, b, dx):\n",
    "    N = int((b-a) / dx)\n",
    "    xk = np.linspace(a, b, N)  # точки\n",
    "    rectan = dx*np.sum(f(xk))  #метод прямоугольников\n",
    "    trapez = dx/2*(f(dx) + 2*np.sum(f(xk[1:-1])) + f(xk[-1]))  # метод трапеций\n",
    "    simp = dx/3*(f(dx) + 2*np.sum(f(xk[2:-1:2])) + 4*np.sum(f(xk[1:-2:2])) + f(xk[-1]))  # метод Симпсона\n",
    "    return f\"{rectan}, {trapez}, {simp} с шагом {dx}\"\n",
    "\n",
    "an_solution = np.float64(sin(1))\n",
    "print(f\"{an_solution} - аналитическое решение функции\")\n",
    "\n",
    "for i in range(5):\n",
    "    print(integral(f, 1, e, 0.1**i))\n"
   ]
  },
  {
   "cell_type": "code",
   "execution_count": 38,
   "metadata": {},
   "outputs": [
    {
     "name": "stdout",
     "output_type": "stream",
     "text": [
      "1.1107207345395915\n",
      "0.8238512126812755, 0.8098258036743812, 0.7737705910624484 с шагом 0.1\n",
      "1.0322244184751246, 1.0312903460191785, 1.0212859253328779 с шагом 0.010000000000000002\n",
      "1.0890898327101404, 1.088627061795969, 1.072525102066485 с шагом 0.0010000000000000002\n",
      "1.1040534034851663, 1.1040446838813676, 1.0989731743454727 с шагом 0.00010000000000000003\n",
      "inf, 1.1086409328324405, 1.1070394070810448 с шагом 1.0000000000000003e-05\n",
      "inf, 1.1100661882097627, 1.1095599697750977 с шагом 1.0000000000000004e-06\n"
     ]
    },
    {
     "name": "stderr",
     "output_type": "stream",
     "text": [
      "C:\\Users\\Юлия\\AppData\\Local\\Temp\\ipykernel_9904\\4048837623.py:2: RuntimeWarning: divide by zero encountered in true_divide\n",
      "  return 1/np.sqrt(2+3*x-2*x**2, where = x!=2)\n"
     ]
    }
   ],
   "source": [
    "def f(x):\n",
    "    return 1/np.sqrt(2+3*x-2*x**2, where = x!=2)\n",
    "\n",
    "def integral(f, a, b, dx):\n",
    "    N = int((b-a) / dx) \n",
    "    xk = np.linspace(a, b, N)  # точки\n",
    "    rectan = dx*np.sum(f(xk))  # метод прямоугольников\n",
    "    trapezoid = dx/2*(f(dx) + 2*np.sum(f(xk[1:-1])) + f(xk[-1]))  # метод трапеций\n",
    "    simp = dx/3*(f(dx) + 2*np.sum(f(xk[2:-1:2])) + 4*np.sum(f(xk[1:-2:2])) + f(xk[-1]))  # метод Симпсона\n",
    "    return f\"{rectan}, {trapezoid}, {simp} с шагом {dx}\"\n",
    "\n",
    "an_solution = np.float64(1.110720734539591561753970247515173)  # аналитическое решение\n",
    "print(f\"{an_solution}\")\n",
    "\n",
    "for i in range(6):\n",
    "    print(integral(f, np.float64(3/4), 2, 0.1 * 0.1**i))\n"
   ]
  },
  {
   "cell_type": "code",
   "execution_count": null,
   "metadata": {},
   "outputs": [],
   "source": []
  }
 ],
 "metadata": {
  "kernelspec": {
   "display_name": "Python 3 (ipykernel)",
   "language": "python",
   "name": "python3"
  },
  "language_info": {
   "codemirror_mode": {
    "name": "ipython",
    "version": 3
   },
   "file_extension": ".py",
   "mimetype": "text/x-python",
   "name": "python",
   "nbconvert_exporter": "python",
   "pygments_lexer": "ipython3",
   "version": "3.9.12"
  }
 },
 "nbformat": 4,
 "nbformat_minor": 2
}
