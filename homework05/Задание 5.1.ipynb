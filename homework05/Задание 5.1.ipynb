{
 "cells": [
  {
   "cell_type": "code",
   "execution_count": 28,
   "id": "48d16358",
   "metadata": {},
   "outputs": [
    {
     "name": "stdout",
     "output_type": "stream",
     "text": [
      "1 2 3 4 5 6\n",
      "1 3 5\n"
     ]
    }
   ],
   "source": [
    "#Задача №1\n",
    "\n",
    "print(' '.join(list((input().replace(' ',''))[::2])))"
   ]
  },
  {
   "cell_type": "code",
   "execution_count": 15,
   "id": "f64c95a6",
   "metadata": {},
   "outputs": [
    {
     "name": "stdout",
     "output_type": "stream",
     "text": [
      "1 2 1 2 3 6 1\n",
      "6 5\n"
     ]
    }
   ],
   "source": [
    "#Задача №2\n",
    "A = input().replace(' ','') \n",
    "print(max(A), A.index(max(A)))"
   ]
  },
  {
   "cell_type": "code",
   "execution_count": 19,
   "id": "7f4ef192",
   "metadata": {},
   "outputs": [
    {
     "name": "stdout",
     "output_type": "stream",
     "text": [
      "1 2 3 4 5\n",
      "5 4 3 2 1\n"
     ]
    }
   ],
   "source": [
    "#Задача №3\n",
    "print((input()[::-1]))"
   ]
  },
  {
   "cell_type": "code",
   "execution_count": 54,
   "id": "3094a91a",
   "metadata": {},
   "outputs": [
    {
     "name": "stdout",
     "output_type": "stream",
     "text": [
      "1 2 3 4 5 6 7\n",
      "2 1 4 3 6 5 7\n"
     ]
    }
   ],
   "source": [
    "#Задача №4\n",
    "A = input().replace(' ','') \n",
    "A = list(map(lambda a,b: a+b, list(A[1::2]+'0'), list(A[::2])))\n",
    "print(' '.join(list(' '.join(A).replace('0','').replace(' ',''))))"
   ]
  },
  {
   "cell_type": "code",
   "execution_count": 74,
   "id": "89302e43",
   "metadata": {},
   "outputs": [
    {
     "name": "stdout",
     "output_type": "stream",
     "text": [
      "1 2 3 4 5 6\n",
      "6 1 2 3 4 5\n"
     ]
    }
   ],
   "source": [
    "# Задача 5\n",
    "A = input().split()\n",
    "print(' '.join([A[len(A)-1]] + A[:len(A)-1]))"
   ]
  },
  {
   "cell_type": "code",
   "execution_count": 65,
   "id": "43312e1a",
   "metadata": {},
   "outputs": [
    {
     "name": "stdout",
     "output_type": "stream",
     "text": [
      "1 2 3 4 5 6\n",
      "3\n",
      "1 2 4 5 6\n"
     ]
    }
   ],
   "source": [
    "#Задача №6\n",
    "A = input().replace(' ','')\n",
    "B = input()\n",
    "print(' '.join(list(A.replace(B,''))))"
   ]
  },
  {
   "cell_type": "code",
   "execution_count": 75,
   "id": "18ad6a98",
   "metadata": {},
   "outputs": [
    {
     "name": "stdout",
     "output_type": "stream",
     "text": [
      "1 2 3 4 5\n",
      "2 1\n",
      "1 2 1 3 4 5\n"
     ]
    }
   ],
   "source": [
    "#Задача №7\n",
    "A = input().split()\n",
    "n, elem = map(int, input().split())\n",
    "print(' '.join(A[:n] + [f\"{elem}\"] + A[n:]))"
   ]
  },
  {
   "cell_type": "code",
   "execution_count": 76,
   "id": "d109a07c",
   "metadata": {},
   "outputs": [
    {
     "name": "stdout",
     "output_type": "stream",
     "text": [
      "1 2 3 4 5\n",
      "3\n",
      "3 4 5 1 2\n"
     ]
    }
   ],
   "source": [
    "#Задача №8\n",
    "A, n = input().split(), int(input())\n",
    "print(' '.join(A[n-1:] + A[:n-1]))"
   ]
  }
 ],
 "metadata": {
  "kernelspec": {
   "display_name": "Python 3 (ipykernel)",
   "language": "python",
   "name": "python3"
  },
  "language_info": {
   "codemirror_mode": {
    "name": "ipython",
    "version": 3
   },
   "file_extension": ".py",
   "mimetype": "text/x-python",
   "name": "python",
   "nbconvert_exporter": "python",
   "pygments_lexer": "ipython3",
   "version": "3.9.12"
  }
 },
 "nbformat": 4,
 "nbformat_minor": 5
}
